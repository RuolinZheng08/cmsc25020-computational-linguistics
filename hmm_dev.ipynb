{
 "cells": [
  {
   "cell_type": "code",
   "execution_count": 1,
   "metadata": {},
   "outputs": [],
   "source": [
    "import numpy as np\n",
    "from collections import deque"
   ]
  },
  {
   "cell_type": "code",
   "execution_count": 2,
   "metadata": {},
   "outputs": [],
   "source": [
    "def forward(model, seq):\n",
    "    pi, A, B = model\n",
    "    num_states = A.shape[0]\n",
    "    T = seq.shape[0]\n",
    "    alpha = np.empty((T, num_states))\n",
    "    alpha[0] = pi * B[seq[0]]\n",
    "    for t in range(1, T):\n",
    "        alpha[t] = alpha[t - 1] @ A * B[seq[t]]\n",
    "    return alpha\n",
    "\n",
    "def backward(model, seq):\n",
    "    pi, A, B = model\n",
    "    num_states = A.shape[0]\n",
    "    T = seq.shape[0]\n",
    "    beta = np.empty((T, num_states))\n",
    "    beta[T - 1] = 1\n",
    "    for t in range(T - 2, -1, -1):\n",
    "        beta[t] = A * B[seq[t + 1]] @ beta[t + 1]\n",
    "    return beta\n",
    "\n",
    "def alpha_prob(alpha):\n",
    "    return sum(alpha[-1])\n",
    "\n",
    "def beta_prob(pi, B, beta, seq):\n",
    "    return sum(pi * B[seq[0]] * beta[0])"
   ]
  },
  {
   "cell_type": "code",
   "execution_count": 3,
   "metadata": {},
   "outputs": [
    {
     "data": {
      "text/plain": [
       "(0.054768480000000015, 0.054768480000000015)"
      ]
     },
     "execution_count": 3,
     "metadata": {},
     "output_type": "execute_result"
    }
   ],
   "source": [
    "pi = np.array([0.4, 0.3, 0.3])\n",
    "# A[i, j] from state i+1 to j+1\n",
    "A = np.array([\n",
    "    [0.8, 0.2, 0. ],\n",
    "    [0.3, 0.4, 0.3],\n",
    "    [0. , 0.3, 0.7]])\n",
    "# B[o, i] emitting o at state i+1\n",
    "B = np.array([\n",
    "    [0.9, 0.5, 0.2],\n",
    "    [0.1, 0.5, 0.8]])\n",
    "\n",
    "seq = np.array([0, 0, 1, 0])\n",
    "alpha = forward((pi, A, B), seq)\n",
    "beta = backward((pi, A, B), seq)\n",
    "alpha_prob(alpha), beta_prob(pi, B, beta, seq)"
   ]
  },
  {
   "cell_type": "code",
   "execution_count": null,
   "metadata": {},
   "outputs": [],
   "source": [
    "def compute_xi():\n",
    "    xi = np.zeros((3, 3, 3))\n",
    "    for t in range(3):\n",
    "        for i in range(3):\n",
    "            for j in range(3):\n",
    "                xi[t, i, j] = alpha[t, i] * A[i, j] * B[seq[t + 1], j] * beta[t + 1, j]\n",
    "    xi /= alpha_prob(alpha)\n",
    "    for t in range(3):\n",
    "        assert np.isclose(xi[t].sum(), 1)\n",
    "    return xi"
   ]
  },
  {
   "cell_type": "code",
   "execution_count": null,
   "metadata": {},
   "outputs": [],
   "source": [
    "def compute_xi_fast():\n",
    "    xi = np.zeros((3, 3, 3))\n",
    "    for t in range(3):\n",
    "        xi[t] = np.outer(alpha[t], beta[t + 1]) * A * B[seq[t + 1]]\n",
    "    xi /= alpha_prob(alpha)\n",
    "    return xi"
   ]
  },
  {
   "cell_type": "code",
   "execution_count": null,
   "metadata": {
    "scrolled": true
   },
   "outputs": [],
   "source": [
    "xi1 = compute_xi()\n",
    "xi2 = compute_xi_fast()\n",
    "np.allclose(xi1, xi2)"
   ]
  },
  {
   "cell_type": "code",
   "execution_count": null,
   "metadata": {},
   "outputs": [],
   "source": [
    "%timeit -n 50 compute_xi()\n",
    "%timeit -n 50 compute_xi_fast()"
   ]
  },
  {
   "cell_type": "code",
   "execution_count": null,
   "metadata": {},
   "outputs": [],
   "source": [
    "gamma = np.empty((4, 3))\n",
    "for t in range(4):\n",
    "    for i in range(3):\n",
    "        gamma[t, i] = alpha[t, i] * beta[t, i]\n",
    "gamma"
   ]
  },
  {
   "cell_type": "code",
   "execution_count": null,
   "metadata": {},
   "outputs": [],
   "source": [
    "gamma = alpha * beta\n",
    "gamma /= alpha_prob(alpha)"
   ]
  },
  {
   "cell_type": "code",
   "execution_count": null,
   "metadata": {},
   "outputs": [],
   "source": [
    "# update pi gamma[0] equivalent\n",
    "xi[0].sum(axis=1), gamma[0]"
   ]
  },
  {
   "cell_type": "code",
   "execution_count": null,
   "metadata": {
    "scrolled": false
   },
   "outputs": [],
   "source": [
    "# update A\n",
    "numerator = xi.sum(axis=0)\n",
    "denom = gamma[:-1].sum(axis=0)\n",
    "A = numerator / denom[:, None]\n",
    "print(A.sum(axis=1)) # row-wise 1\n",
    "A"
   ]
  },
  {
   "cell_type": "code",
   "execution_count": null,
   "metadata": {},
   "outputs": [],
   "source": [
    "# update B\n",
    "denom = gamma.sum(axis=0) # soft counts of state i over entire seq\n",
    "for k in range(2):\n",
    "    B[k] = gamma[seq == k].sum(axis=0)\n",
    "B /= denom\n",
    "print(B.sum(axis=0)) # col-wise 1\n",
    "B"
   ]
  },
  {
   "cell_type": "code",
   "execution_count": null,
   "metadata": {},
   "outputs": [],
   "source": [
    "class HMM:\n",
    "    def __init__(self):\n",
    "        self.pi = np.array([0.4, 0.3, 0.3])\n",
    "        # A[i, j] from state i+1 to j+1\n",
    "        self.A = np.array([\n",
    "            [0.8, 0.2, 0. ],\n",
    "            [0.3, 0.4, 0.3],\n",
    "            [0. , 0.3, 0.7]])\n",
    "        # B[o, i] emitting o at state i+1\n",
    "        self.B = np.array([\n",
    "            [0.9, 0.5, 0.2],\n",
    "            [0.1, 0.5, 0.8]])\n",
    "        self.num_states = 3\n",
    "        self.num_emissions = 2\n",
    "        self.alpha = None\n",
    "        self.beta = None\n",
    "        self.xi = None\n",
    "        self.gamma = None\n",
    "        \n",
    "    def forward(self, seq):\n",
    "        T = seq.shape[0]\n",
    "        self.alpha = np.empty((T, self.num_states)) # T * num_states\n",
    "        self.alpha[0] = self.pi * self.B[seq[0]]\n",
    "        for t in range(1, T):\n",
    "            self.alpha[t] = self.alpha[t - 1] @ self.A * self.B[seq[t]]\n",
    "    \n",
    "    def backward(self, seq):\n",
    "        num_states = self.A.shape[0]\n",
    "        T = seq.shape[0]\n",
    "        self.beta = np.empty((T, self.num_states))\n",
    "        self.beta[T - 1] = 1\n",
    "        for t in range(T - 2, -1, -1):\n",
    "            self.beta[t] = self.A * self.B[seq[t + 1]] @ self.beta[t + 1]\n",
    "            \n",
    "    def alpha_prob(self):\n",
    "        return sum(self.alpha[-1])\n",
    "    \n",
    "    def beta_prob(self, seq):\n",
    "        return sum(self.pi * self.B[seq[0]] * self.beta[0])\n",
    "    \n",
    "    def expectation(self, seq):\n",
    "        self.forward(seq)\n",
    "        self.backward(seq)\n",
    "        \n",
    "        T = seq.shape[0]\n",
    "        alpha_p = self.alpha_prob()\n",
    "        self.xi = np.empty((T - 1, self.num_states, self.num_states))\n",
    "        for t in range(T - 1):\n",
    "            for i in range(self.num_states):\n",
    "                for j in range(self.num_states):\n",
    "                    numerator = self.alpha[t, i] * self.A[i, j] * \\\n",
    "                    self.B[seq[t + 1], j] * self.beta[t + 1, j]\n",
    "                    self.xi[t, i, j] = numerator\n",
    "        self.xi /= self.alpha_prob()\n",
    "        \n",
    "        self.gamma = self.alpha * self.beta / alpha_p\n",
    "    \n",
    "    def maximization(self, seq):\n",
    "        # update pi\n",
    "        self.pi = self.gamma[0] # soft counts of each state at time 1\n",
    "        # update A\n",
    "        numerator = self.xi.sum(axis=0) # soft counts of transitions from i to j\n",
    "        denom = self.gamma[:-1].sum(axis=0) # soft counts of transitions out of i \n",
    "        self.A = numerator / denom[:, None]\n",
    "        \n",
    "        # update B\n",
    "        denom = self.gamma.sum(axis=0) # soft counts of state i over entire seq\n",
    "        for k in range(self.num_emissions):\n",
    "            self.B[k] = self.gamma[seq == k].sum(axis=0)\n",
    "        self.B /= denom\n",
    "        \n",
    "    def check_probabilities(self):\n",
    "        assert np.isclose(hmm.pi.sum(), 1)\n",
    "        assert np.allclose(hmm.A.sum(axis=1), 1)\n",
    "        assert np.allclose(hmm.B.sum(axis=0), 1)"
   ]
  },
  {
   "cell_type": "code",
   "execution_count": null,
   "metadata": {},
   "outputs": [],
   "source": [
    "seq = np.array([0, 0, 1, 0])\n",
    "hmm = HMM()\n",
    "hmm.forward(seq)\n",
    "hmm.backward(seq)\n",
    "hmm.alpha_prob(), hmm.beta_prob(seq)"
   ]
  },
  {
   "cell_type": "code",
   "execution_count": null,
   "metadata": {},
   "outputs": [],
   "source": [
    "np.set_printoptions(precision=5, suppress=True)\n",
    "for i in range(10):\n",
    "    hmm.expectation(seq)\n",
    "    hmm.maximization(seq)\n",
    "    print(hmm.A, hmm.B, hmm.pi, sep='\\n\\n**\\n\\n')\n",
    "    hmm.check_probabilities()"
   ]
  },
  {
   "cell_type": "code",
   "execution_count": 25,
   "metadata": {
    "scrolled": true
   },
   "outputs": [
    {
     "data": {
      "text/plain": [
       "array([[0.36      , 0.15      , 0.06      ],\n",
       "       [0.2592    , 0.036     , 0.009     ],\n",
       "       [0.020736  , 0.02592   , 0.00864   ],\n",
       "       [0.01492992, 0.005184  , 0.0015552 ]])"
      ]
     },
     "execution_count": 25,
     "metadata": {},
     "output_type": "execute_result"
    }
   ],
   "source": [
    "# viterbi\n",
    "delta = np.empty((4, 3))\n",
    "delta[0] = pi * B[seq[0]]\n",
    "for t in range(1, 4):\n",
    "    for j in range(3):\n",
    "        arr = [delta[t - 1, i] * A[i, j] for i in range(3)]\n",
    "        delta[t, j] = max(arr) * B[seq[t], j]\n",
    "delta"
   ]
  },
  {
   "cell_type": "code",
   "execution_count": 26,
   "metadata": {},
   "outputs": [
    {
     "data": {
      "text/plain": [
       "array([[0.36      , 0.15      , 0.06      ],\n",
       "       [0.2592    , 0.036     , 0.009     ],\n",
       "       [0.020736  , 0.02592   , 0.00864   ],\n",
       "       [0.01492992, 0.005184  , 0.0015552 ]])"
      ]
     },
     "execution_count": 26,
     "metadata": {},
     "output_type": "execute_result"
    }
   ],
   "source": [
    "delta = np.empty((4, 3))\n",
    "delta[0] = pi * B[seq[0]]\n",
    "for t in range(1, 4):\n",
    "    delta[t] = (delta[t - 1][:, None] * A).max(axis=0) * B[seq[t]]\n",
    "delta"
   ]
  },
  {
   "cell_type": "code",
   "execution_count": 95,
   "metadata": {},
   "outputs": [
    {
     "data": {
      "text/plain": [
       "array([[0.36      , 0.15      , 0.06      ],\n",
       "       [0.2592    , 0.03      , 0.0084    ],\n",
       "       [0.020736  , 0.006     , 0.004704  ],\n",
       "       [0.01492992, 0.0012    , 0.00065856]])"
      ]
     },
     "execution_count": 95,
     "metadata": {},
     "output_type": "execute_result"
    }
   ],
   "source": [
    "delta = np.empty((4, 3))\n",
    "delta[0] = pi * B[seq[0]]\n",
    "for t in range(1, 4):\n",
    "    delta[t] = (delta[t - 1] * A).max(axis=0) * B[seq[t]]\n",
    "delta"
   ]
  },
  {
   "cell_type": "code",
   "execution_count": 96,
   "metadata": {
    "scrolled": true
   },
   "outputs": [
    {
     "data": {
      "text/plain": [
       "(array([0.2592, 0.036 , 0.009 ]), array([0.2592, 0.036 , 0.009 ]))"
      ]
     },
     "execution_count": 96,
     "metadata": {},
     "output_type": "execute_result"
    }
   ],
   "source": [
    "t = 1\n",
    "np.einsum('i,ij->ij', delta[0], A).max(axis=0) * B[0], \\\n",
    "np.einsum('ij,i->ij', A, delta[0]).max(axis=0) * B[0]"
   ]
  },
  {
   "cell_type": "code",
   "execution_count": 77,
   "metadata": {},
   "outputs": [],
   "source": [
    "def viterbi_trans_cached(model, seq):\n",
    "    pi, A, B = model\n",
    "    num_states = A.shape[0]\n",
    "    T = seq.shape[0]\n",
    "    Atrans = A.T\n",
    "    delta = np.empty((T, num_states))\n",
    "    delta[0] = pi * B[seq[0]]\n",
    "    for t in range(1, T):\n",
    "        delta[t] = (delta[t - 1] * Atrans).max(axis=1) * B[seq[t]]\n",
    "    return delta"
   ]
  },
  {
   "cell_type": "code",
   "execution_count": 104,
   "metadata": {},
   "outputs": [],
   "source": [
    "def viterbi_einsum(model, seq):\n",
    "    pi, A, B = model\n",
    "    num_states = A.shape[0]\n",
    "    T = seq.shape[0]\n",
    "    delta = np.empty((T, num_states))\n",
    "    delta[0] = pi * B[seq[0]]\n",
    "    for t in range(1, T):\n",
    "        delta[t] = np.einsum('i,ij->ij', delta[t - 1], A).max(axis=0) * B[seq[t]]\n",
    "    return delta"
   ]
  },
  {
   "cell_type": "code",
   "execution_count": 108,
   "metadata": {},
   "outputs": [],
   "source": [
    "def viterbi_newaxis(model, seq):\n",
    "    pi, A, B = model\n",
    "    num_states = A.shape[0]\n",
    "    T = seq.shape[0]\n",
    "    delta = np.empty((T, num_states))\n",
    "    delta[0] = pi * B[seq[0]]\n",
    "    for t in range(1, T):\n",
    "        delta[t] = (delta[t - 1][:, np.newaxis] * A).max(axis=0) * B[seq[t]]\n",
    "    return delta"
   ]
  },
  {
   "cell_type": "code",
   "execution_count": 105,
   "metadata": {},
   "outputs": [],
   "source": [
    "def viterbi_einsum2(model, seq):\n",
    "    pi, A, B = model\n",
    "    num_states = A.shape[0]\n",
    "    T = seq.shape[0]\n",
    "    delta = np.empty((T, num_states))\n",
    "    delta[0] = pi * B[seq[0]]\n",
    "    for t in range(1, T):\n",
    "        delta[t] = np.einsum('ij,i->ij', A, delta[t - 1]).max(axis=0) * B[seq[t]]\n",
    "    return delta"
   ]
  },
  {
   "cell_type": "code",
   "execution_count": 109,
   "metadata": {},
   "outputs": [
    {
     "data": {
      "text/plain": [
       "(True, True, True)"
      ]
     },
     "execution_count": 109,
     "metadata": {},
     "output_type": "execute_result"
    }
   ],
   "source": [
    "test = np.random.randint(0, 2, 1000)\n",
    "res1 = viterbi_trans_cached((pi, A, B), test)\n",
    "res2 = viterbi_newaxis((pi, A, B), test)\n",
    "res3 = viterbi_einsum((pi, A, B), test)\n",
    "res4 = viterbi_einsum2((pi, A, B), test)\n",
    "np.allclose(res1, res2), np.allclose(res2, res3), np.allclose(res4, res3)"
   ]
  },
  {
   "cell_type": "code",
   "execution_count": 112,
   "metadata": {},
   "outputs": [
    {
     "name": "stdout",
     "output_type": "stream",
     "text": [
      "10.1 ms ± 1.26 ms per loop (mean ± std. dev. of 7 runs, 50 loops each)\n",
      "8.92 ms ± 350 µs per loop (mean ± std. dev. of 7 runs, 50 loops each)\n",
      "8.75 ms ± 353 µs per loop (mean ± std. dev. of 7 runs, 50 loops each)\n"
     ]
    }
   ],
   "source": [
    "%timeit -n 50 viterbi_trans_cached((pi, A, B), test)\n",
    "%timeit -n 50 viterbi_newaxis((pi, A, B), test)\n",
    "# %timeit -n 50 viterbi_einsum((pi, A, B), test)\n",
    "# %timeit -n 50 viterbi_einsum2((pi, A, B), test)\n",
    "%timeit -n 50 viterbi((pi, A, B), test)"
   ]
  },
  {
   "cell_type": "code",
   "execution_count": null,
   "metadata": {},
   "outputs": [],
   "source": [
    "delta = np.empty((3, 4))\n",
    "delta[0] = pi * B[seq[0]]\n",
    "for t in range(1, 4):\n",
    "    delta[t] = (delta[t - 1] * A.T).max(axis=1) * B[seq[t]]\n",
    "delta"
   ]
  },
  {
   "cell_type": "code",
   "execution_count": 17,
   "metadata": {},
   "outputs": [
    {
     "name": "stdout",
     "output_type": "stream",
     "text": [
      "[[0.36       0.15       0.06      ]\n",
      " [0.2592     0.036      0.009     ]\n",
      " [0.020736   0.02592    0.00864   ]\n",
      " [0.01492992 0.005184   0.0015552 ]]\n",
      "\n",
      "[[0 1 2]\n",
      " [0 0 1]\n",
      " [0 0 1]\n",
      " [0 1 1]]\n",
      "deque([0, 0, 0, 0, 0])\n"
     ]
    }
   ],
   "source": [
    "# backtracing\n",
    "delta = np.empty((4, 3))\n",
    "psi = np.empty((4, 3), dtype='int')\n",
    "psi[0] = np.arange(3) # best state to come from initially, aka. pi\n",
    "delta[0] = pi * B[seq[0]]\n",
    "for t in range(1, 4):\n",
    "    temp = delta[t - 1][:, None] * A\n",
    "    psi[t] = temp.argmax(axis=0)\n",
    "    delta[t] = temp.max(axis=0) * B[seq[t]]\n",
    "print(delta, psi, sep='\\n\\n')\n",
    "\n",
    "best = np.argmax(delta[-1])\n",
    "path = deque([best])\n",
    "for t in range(3, -1, -1):\n",
    "    best = psi[t, best]\n",
    "    path.appendleft(best)\n",
    "    \n",
    "print(path)"
   ]
  },
  {
   "cell_type": "code",
   "execution_count": 24,
   "metadata": {},
   "outputs": [],
   "source": [
    "def viterbi(model, seq):\n",
    "    pi, A, B = model\n",
    "    num_states = A.shape[0]\n",
    "    T = seq.shape[0]\n",
    "    delta = np.empty((T, num_states))\n",
    "    psi = np.empty((T, num_states), dtype='int')\n",
    "    psi[0] = np.arange(num_states) # best state to come from initially, aka. pi\n",
    "    delta[0] = pi * B[seq[0]]\n",
    "    for t in range(1, T):\n",
    "        temp = delta[t - 1][:, None] * A\n",
    "        psi[t] = temp.argmax(axis=0)\n",
    "        delta[t] = temp.max(axis=0) * B[seq[t]]\n",
    "    print(delta, psi, sep='\\n\\n')\n",
    "    best = np.argmax(delta[-1])\n",
    "    path = deque([best])\n",
    "    for t in range(T - 2, -1, -1):\n",
    "        best = psi[t, best]\n",
    "        path.appendleft(best)\n",
    "    return path"
   ]
  },
  {
   "cell_type": "code",
   "execution_count": 25,
   "metadata": {},
   "outputs": [
    {
     "name": "stdout",
     "output_type": "stream",
     "text": [
      "[[0.36       0.15       0.06      ]\n",
      " [0.2592     0.036      0.009     ]\n",
      " [0.020736   0.02592    0.00864   ]\n",
      " [0.01492992 0.005184   0.0015552 ]]\n",
      "\n",
      "[[0 1 2]\n",
      " [0 0 1]\n",
      " [0 0 1]\n",
      " [0 1 1]]\n"
     ]
    },
    {
     "data": {
      "text/plain": [
       "deque([0, 0, 0, 0])"
      ]
     },
     "execution_count": 25,
     "metadata": {},
     "output_type": "execute_result"
    }
   ],
   "source": [
    "viterbi((pi, A, B), seq)"
   ]
  },
  {
   "cell_type": "code",
   "execution_count": 26,
   "metadata": {
    "scrolled": true
   },
   "outputs": [
    {
     "name": "stdout",
     "output_type": "stream",
     "text": [
      "[[0.36       0.15       0.06      ]\n",
      " [0.0288     0.036      0.036     ]\n",
      " [0.020736   0.0072     0.00504   ]\n",
      " [0.00165888 0.0020736  0.0028224 ]]\n",
      "\n",
      "[[0 1 2]\n",
      " [0 0 1]\n",
      " [0 1 2]\n",
      " [0 0 2]]\n"
     ]
    },
    {
     "data": {
      "text/plain": [
       "deque([1, 1, 2, 2])"
      ]
     },
     "execution_count": 26,
     "metadata": {},
     "output_type": "execute_result"
    }
   ],
   "source": [
    "test = np.array([0, 1, 0, 1])\n",
    "viterbi((pi, A, B), test)"
   ]
  },
  {
   "cell_type": "code",
   "execution_count": 36,
   "metadata": {},
   "outputs": [
    {
     "data": {
      "text/plain": [
       "deque([1, 1, 0, 0])"
      ]
     },
     "execution_count": 36,
     "metadata": {},
     "output_type": "execute_result"
    }
   ],
   "source": [
    "psi = np.array([[0, 1], [1, 1], [0, 0], [0, 0]])\n",
    "best = 0\n",
    "path = deque([best])\n",
    "for t in range(2, -1, -1):\n",
    "    best = psi[t, best]\n",
    "    path.appendleft(best)\n",
    "path"
   ]
  }
 ],
 "metadata": {
  "kernelspec": {
   "display_name": "Python 3",
   "language": "python",
   "name": "python3"
  },
  "language_info": {
   "codemirror_mode": {
    "name": "ipython",
    "version": 3
   },
   "file_extension": ".py",
   "mimetype": "text/x-python",
   "name": "python",
   "nbconvert_exporter": "python",
   "pygments_lexer": "ipython3",
   "version": "3.8.0"
  }
 },
 "nbformat": 4,
 "nbformat_minor": 2
}
