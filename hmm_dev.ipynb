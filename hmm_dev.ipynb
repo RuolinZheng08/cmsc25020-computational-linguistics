{
 "cells": [
  {
   "cell_type": "code",
   "execution_count": 38,
   "metadata": {},
   "outputs": [],
   "source": [
    "import numpy as np"
   ]
  },
  {
   "cell_type": "code",
   "execution_count": 39,
   "metadata": {},
   "outputs": [],
   "source": [
    "def forward(model, seq):\n",
    "    pi, A, B = model\n",
    "    num_states = A.shape[0]\n",
    "    T = seq.shape[0]\n",
    "    alpha = np.empty((T, num_states)) # num_states, time\n",
    "    alpha[0] = pi * B[seq[0]]\n",
    "    for t in range(1, T):\n",
    "        alpha[t] = alpha[t - 1] @ A * B[seq[t]]\n",
    "    return alpha\n",
    "\n",
    "def backward(model, seq):\n",
    "    pi, A, B = model\n",
    "    num_states = A.shape[0]\n",
    "    T = seq.shape[0]\n",
    "    beta = np.empty((T, num_states)) # num_states, time\n",
    "    beta[T - 1] = 1\n",
    "    for t in range(T - 2, -1, -1):\n",
    "        beta[t] = A * B[seq[t + 1]] @ beta[t + 1]\n",
    "    return beta\n",
    "\n",
    "def alpha_prob(alpha):\n",
    "    return sum(alpha[-1])\n",
    "\n",
    "def beta_prob(pi, B, beta, seq):\n",
    "    return sum(pi * B[seq[0]] * beta[0])"
   ]
  },
  {
   "cell_type": "code",
   "execution_count": 40,
   "metadata": {},
   "outputs": [
    {
     "data": {
      "text/plain": [
       "(0.054768480000000015, 0.054768480000000015)"
      ]
     },
     "execution_count": 40,
     "metadata": {},
     "output_type": "execute_result"
    }
   ],
   "source": [
    "pi = np.array([0.4, 0.3, 0.3])\n",
    "# A[i, j] from state i+1 to j+1\n",
    "A = np.array([\n",
    "    [0.8, 0.2, 0. ],\n",
    "    [0.3, 0.4, 0.3],\n",
    "    [0. , 0.3, 0.7]])\n",
    "# B[o, i] emitting o at state i+1\n",
    "B = np.array([\n",
    "    [0.9, 0.5, 0.2],\n",
    "    [0.1, 0.5, 0.8]])\n",
    "\n",
    "seq = np.array([0, 0, 1, 0])\n",
    "alpha = forward((pi, A, B), seq)\n",
    "beta = backward((pi, A, B), seq)\n",
    "alpha_prob(alpha), beta_prob(pi, B, beta, seq)"
   ]
  },
  {
   "cell_type": "code",
   "execution_count": 132,
   "metadata": {},
   "outputs": [],
   "source": [
    "def compute_xi():\n",
    "    xi = np.zeros((3, 3, 3))\n",
    "    for t in range(3):\n",
    "        for i in range(3):\n",
    "            for j in range(3):\n",
    "                xi[t, i, j] = alpha[t, i] * A[i, j] * B[seq[t + 1], j] * beta[t + 1, j]\n",
    "    xi /= alpha_prob(alpha)\n",
    "    for t in range(3):\n",
    "        assert np.isclose(xi[t].sum(), 1)\n",
    "    return xi"
   ]
  },
  {
   "cell_type": "code",
   "execution_count": 138,
   "metadata": {},
   "outputs": [],
   "source": [
    "def compute_xi_fast():\n",
    "    xi = np.zeros((3, 3, 3))\n",
    "    for t in range(3):\n",
    "        xi[t] = np.outer(alpha[t], beta[t + 1]) * A * B[seq[t + 1]]\n",
    "    xi /= alpha_prob(alpha)\n",
    "    return xi"
   ]
  },
  {
   "cell_type": "code",
   "execution_count": 140,
   "metadata": {
    "scrolled": true
   },
   "outputs": [
    {
     "data": {
      "text/plain": [
       "True"
      ]
     },
     "execution_count": 140,
     "metadata": {},
     "output_type": "execute_result"
    }
   ],
   "source": [
    "xi1 = compute_xi()\n",
    "xi2 = compute_xi_fast()\n",
    "np.allclose(xi1, xi2)"
   ]
  },
  {
   "cell_type": "code",
   "execution_count": 142,
   "metadata": {},
   "outputs": [
    {
     "name": "stdout",
     "output_type": "stream",
     "text": [
      "333 µs ± 51.1 µs per loop (mean ± std. dev. of 7 runs, 50 loops each)\n",
      "61.2 µs ± 14.9 µs per loop (mean ± std. dev. of 7 runs, 50 loops each)\n"
     ]
    }
   ],
   "source": [
    "%timeit -n 50 compute_xi()\n",
    "%timeit -n 50 compute_xi_fast()"
   ]
  },
  {
   "cell_type": "code",
   "execution_count": null,
   "metadata": {},
   "outputs": [],
   "source": [
    "gamma = np.empty((4, 3))\n",
    "for t in range(4):\n",
    "    for i in range(3):\n",
    "        gamma[t, i] = alpha[t, i] * beta[t, i]\n",
    "gamma"
   ]
  },
  {
   "cell_type": "code",
   "execution_count": null,
   "metadata": {},
   "outputs": [],
   "source": [
    "gamma = alpha * beta\n",
    "gamma /= alpha_prob(alpha)"
   ]
  },
  {
   "cell_type": "code",
   "execution_count": null,
   "metadata": {},
   "outputs": [],
   "source": [
    "# update pi gamma[0] equivalent\n",
    "xi[0].sum(axis=1), gamma[0]"
   ]
  },
  {
   "cell_type": "code",
   "execution_count": null,
   "metadata": {
    "scrolled": false
   },
   "outputs": [],
   "source": [
    "# update A\n",
    "numerator = xi.sum(axis=0)\n",
    "denom = gamma[:-1].sum(axis=0)\n",
    "A = numerator / denom[:, None]\n",
    "print(A.sum(axis=1)) # row-wise 1\n",
    "A"
   ]
  },
  {
   "cell_type": "code",
   "execution_count": null,
   "metadata": {},
   "outputs": [],
   "source": [
    "# update B\n",
    "denom = gamma.sum(axis=0) # soft counts of state i over entire seq\n",
    "for k in range(2):\n",
    "    B[k] = gamma[seq == k].sum(axis=0)\n",
    "B /= denom\n",
    "print(B.sum(axis=0)) # col-wise 1\n",
    "B"
   ]
  },
  {
   "cell_type": "code",
   "execution_count": 6,
   "metadata": {},
   "outputs": [],
   "source": [
    "class HMM:\n",
    "    def __init__(self):\n",
    "        self.pi = np.array([0.4, 0.3, 0.3])\n",
    "        # A[i, j] from state i+1 to j+1\n",
    "        self.A = np.array([\n",
    "            [0.8, 0.2, 0. ],\n",
    "            [0.3, 0.4, 0.3],\n",
    "            [0. , 0.3, 0.7]])\n",
    "        # B[o, i] emitting o at state i+1\n",
    "        self.B = np.array([\n",
    "            [0.9, 0.5, 0.2],\n",
    "            [0.1, 0.5, 0.8]])\n",
    "        self.num_states = 3\n",
    "        self.num_emissions = 2\n",
    "        self.alpha = None\n",
    "        self.beta = None\n",
    "        self.xi = None\n",
    "        self.gamma = None\n",
    "        \n",
    "    def forward(self, seq):\n",
    "        T = seq.shape[0]\n",
    "        self.alpha = np.empty((T, self.num_states)) # T * num_states\n",
    "        self.alpha[0] = self.pi * self.B[seq[0]]\n",
    "        for t in range(1, T):\n",
    "            self.alpha[t] = self.alpha[t - 1] @ self.A * self.B[seq[t]]\n",
    "    \n",
    "    def backward(self, seq):\n",
    "        num_states = self.A.shape[0]\n",
    "        T = seq.shape[0]\n",
    "        self.beta = np.empty((T, self.num_states))\n",
    "        self.beta[T - 1] = 1\n",
    "        for t in range(T - 2, -1, -1):\n",
    "            self.beta[t] = self.A * self.B[seq[t + 1]] @ self.beta[t + 1]\n",
    "            \n",
    "    def alpha_prob(self):\n",
    "        return sum(self.alpha[-1])\n",
    "    \n",
    "    def beta_prob(self, seq):\n",
    "        return sum(self.pi * self.B[seq[0]] * self.beta[0])\n",
    "    \n",
    "    def expectation(self, seq):\n",
    "        self.forward(seq)\n",
    "        self.backward(seq)\n",
    "        \n",
    "        T = seq.shape[0]\n",
    "        alpha_p = self.alpha_prob()\n",
    "        self.xi = np.empty((T - 1, self.num_states, self.num_states))\n",
    "        for t in range(T - 1):\n",
    "            for i in range(self.num_states):\n",
    "                for j in range(self.num_states):\n",
    "                    numerator = self.alpha[t, i] * self.A[i, j] * \\\n",
    "                    self.B[seq[t + 1], j] * self.beta[t + 1, j]\n",
    "                    self.xi[t, i, j] = numerator\n",
    "        self.xi /= self.alpha_prob()\n",
    "        \n",
    "        self.gamma = self.alpha * self.beta / alpha_p\n",
    "    \n",
    "    def maximization(self, seq):\n",
    "        # update pi\n",
    "        self.pi = self.gamma[0] # soft counts of each state at time 1\n",
    "        # update A\n",
    "        numerator = self.xi.sum(axis=0) # soft counts of transitions from i to j\n",
    "        denom = self.gamma[:-1].sum(axis=0) # soft counts of transitions out of i \n",
    "        self.A = numerator / denom[:, None]\n",
    "        \n",
    "        # update B\n",
    "        denom = self.gamma.sum(axis=0) # soft counts of state i over entire seq\n",
    "        for k in range(self.num_emissions):\n",
    "            self.B[k] = self.gamma[seq == k].sum(axis=0)\n",
    "        self.B /= denom\n",
    "        \n",
    "    def check_probabilities(self):\n",
    "        assert np.isclose(hmm.pi.sum(), 1)\n",
    "        assert np.allclose(hmm.A.sum(axis=1), 1)\n",
    "        assert np.allclose(hmm.B.sum(axis=0), 1)"
   ]
  },
  {
   "cell_type": "code",
   "execution_count": 15,
   "metadata": {},
   "outputs": [
    {
     "data": {
      "text/plain": [
       "(0.054768480000000015, 0.054768480000000015)"
      ]
     },
     "execution_count": 15,
     "metadata": {},
     "output_type": "execute_result"
    }
   ],
   "source": [
    "seq = np.array([0, 0, 1, 0])\n",
    "hmm = HMM()\n",
    "hmm.forward(seq)\n",
    "hmm.backward(seq)\n",
    "hmm.alpha_prob(), hmm.beta_prob(seq)"
   ]
  },
  {
   "cell_type": "code",
   "execution_count": 16,
   "metadata": {},
   "outputs": [
    {
     "name": "stdout",
     "output_type": "stream",
     "text": [
      "[[0.72932 0.27068 0.     ]\n",
      " [0.36632 0.44105 0.19264]\n",
      " [0.      0.45664 0.54336]]\n",
      "\n",
      "**\n",
      "\n",
      "[[0.8303  0.63726 0.64754]\n",
      " [0.1697  0.36274 0.35246]]\n",
      "\n",
      "**\n",
      "\n",
      "[0.69289 0.23711 0.07   ]\n",
      "[[0.69354 0.30646 0.     ]\n",
      " [0.35507 0.44931 0.19563]\n",
      " [0.      0.45448 0.54552]]\n",
      "\n",
      "**\n",
      "\n",
      "[[0.81489 0.63966 0.72834]\n",
      " [0.18511 0.36034 0.27166]]\n",
      "\n",
      "**\n",
      "\n",
      "[0.74027 0.19774 0.06199]\n",
      "[[0.66598 0.33402 0.     ]\n",
      " [0.34553 0.45811 0.19636]\n",
      " [0.      0.4542  0.5458 ]]\n",
      "\n",
      "**\n",
      "\n",
      "[[0.82017 0.62388 0.75873]\n",
      " [0.17983 0.37612 0.24127]]\n",
      "\n",
      "**\n",
      "\n",
      "[0.77552 0.16377 0.0607 ]\n",
      "[[0.6368  0.3632  0.     ]\n",
      " [0.33703 0.46772 0.19525]\n",
      " [0.      0.45552 0.54448]]\n",
      "\n",
      "**\n",
      "\n",
      "[[0.83386 0.59847 0.78089]\n",
      " [0.16614 0.40153 0.21911]]\n",
      "\n",
      "**\n",
      "\n",
      "[0.80896 0.13019 0.06085]\n",
      "[[0.60291 0.39709 0.     ]\n",
      " [0.33004 0.4767  0.19326]\n",
      " [0.      0.45655 0.54345]]\n",
      "\n",
      "**\n",
      "\n",
      "[[0.85314 0.56719 0.80466]\n",
      " [0.14686 0.43281 0.19534]]\n",
      "\n",
      "**\n",
      "\n",
      "[0.84166 0.09699 0.06135]\n",
      "[[0.56374 0.43626 0.     ]\n",
      " [0.32562 0.48298 0.1914 ]\n",
      " [0.      0.45667 0.54333]]\n",
      "\n",
      "**\n",
      "\n",
      "[[0.8771  0.53285 0.83139]\n",
      " [0.1229  0.46715 0.16861]]\n",
      "\n",
      "**\n",
      "\n",
      "[0.87191 0.06637 0.06172]\n",
      "[[0.52127 0.47873 0.     ]\n",
      " [0.32489 0.48431 0.1908 ]\n",
      " [0.      0.45663 0.54337]]\n",
      "\n",
      "**\n",
      "\n",
      "[[0.90446 0.4981  0.85939]\n",
      " [0.09554 0.5019  0.14061]]\n",
      "\n",
      "**\n",
      "\n",
      "[0.89736 0.04115 0.06149]\n",
      "[[0.4804  0.5196  0.     ]\n",
      " [0.3286  0.47909 0.1923 ]\n",
      " [0.      0.45848 0.54152]]\n",
      "\n",
      "**\n",
      "\n",
      "[[0.93256 0.46485 0.88631]\n",
      " [0.06744 0.53515 0.11369]]\n",
      "\n",
      "**\n",
      "\n",
      "[0.91668 0.02306 0.06026]\n",
      "[[0.44782 0.55218 0.     ]\n",
      " [0.33714 0.4666  0.19626]\n",
      " [0.      0.46444 0.53556]]\n",
      "\n",
      "**\n",
      "\n",
      "[[0.9575  0.43366 0.91067]\n",
      " [0.0425  0.56634 0.08933]]\n",
      "\n",
      "**\n",
      "\n",
      "[0.93018 0.01181 0.05801]\n",
      "[[0.42828 0.57172 0.     ]\n",
      " [0.3509  0.44637 0.20273]\n",
      " [0.      0.47551 0.52449]]\n",
      "\n",
      "**\n",
      "\n",
      "[[0.9761  0.40363 0.93226]\n",
      " [0.0239  0.59637 0.06774]]\n",
      "\n",
      "**\n",
      "\n",
      "[0.93916 0.00564 0.0552 ]\n"
     ]
    }
   ],
   "source": [
    "np.set_printoptions(precision=5, suppress=True)\n",
    "for i in range(10):\n",
    "    hmm.expectation(seq)\n",
    "    hmm.maximization(seq)\n",
    "    print(hmm.A, hmm.B, hmm.pi, sep='\\n\\n**\\n\\n')\n",
    "    hmm.check_probabilities()"
   ]
  }
 ],
 "metadata": {
  "kernelspec": {
   "display_name": "Python 3",
   "language": "python",
   "name": "python3"
  },
  "language_info": {
   "codemirror_mode": {
    "name": "ipython",
    "version": 3
   },
   "file_extension": ".py",
   "mimetype": "text/x-python",
   "name": "python",
   "nbconvert_exporter": "python",
   "pygments_lexer": "ipython3",
   "version": "3.8.0"
  }
 },
 "nbformat": 4,
 "nbformat_minor": 2
}
